{
 "cells": [
  {
   "cell_type": "code",
   "execution_count": 2,
   "metadata": {},
   "outputs": [
    {
     "name": "stdout",
     "output_type": "stream",
     "text": [
      "Note: you may need to restart the kernel to use updated packages.\n"
     ]
    }
   ],
   "source": [
    "%pip install -q findspark pyspark"
   ]
  },
  {
   "cell_type": "code",
   "execution_count": 12,
   "metadata": {},
   "outputs": [],
   "source": [
    "import findspark\n",
    "import streamlit as st\n",
    "\n",
    "findspark.init()\n",
    "\n",
    "spark_url = 'local'\n",
    "\n",
    "from pyspark.sql import SparkSession\n",
    "\n",
    "spark = SparkSession.builder\\\n",
    "        .master(spark_url)\\\n",
    "        .appName('Spark SQL')\\\n",
    "        .getOrCreate()"
   ]
  },
  {
   "cell_type": "code",
   "execution_count": 16,
   "metadata": {},
   "outputs": [
    {
     "name": "stdout",
     "output_type": "stream",
     "text": [
      "+--------------------+--------------------+--------------------+----+-----------+-------------+\n",
      "|               Title|         Affiliation|             Subject|Year|  Source_Id|Citedby_Count|\n",
      "+--------------------+--------------------+--------------------+----+-----------+-------------+\n",
      "|Direct immunofluo...|[{'affilname': 'S...|            ['MEDI']|2022|      24294|            0|\n",
      "|Warehouse Process...|[{'affilname': 'C...|['COMP', 'MATH', ...|2022|21100854726|            2|\n",
      "|Multilocus Sequen...|[{'affilname': 'M...|['BIOC', 'ENVI', ...|2022|21100433120|            1|\n",
      "|Atrial fibrillati...|[{'affilname': 'U...|    ['NURS', 'MEDI']|2022|21100408176|            0|\n",
      "|Anatomy of the co...|[{'affilname': 'K...|            ['MEDI']|2022|21100451564|            0|\n",
      "|Phage-resistant P...|[{'affilname': 'S...|    ['IMMU', 'MEDI']|2022|21100226442|            3|\n",
      "|Shareholder litig...|[{'affilname': 'N...|    ['ECON', 'ECON']|2022|      17385|            7|\n",
      "|Phlebotomine Sand...|[{'affilname': 'C...|            ['AGRI']|2022|21100242257|            4|\n",
      "|The Degrowth Inst...|[{'affilname': 'C...|['ARTS', 'ENGI', ...|2022| 5800173395|            0|\n",
      "|Third Asia-Pacifi...|[{'affilname': 'N...|            ['MEDI']|2022|      28366|           11|\n",
      "+--------------------+--------------------+--------------------+----+-----------+-------------+\n",
      "\n"
     ]
    }
   ],
   "source": [
    "from pyspark.sql.functions import explode, count\n",
    "path = \"output.csv\"\n",
    "df = spark.read.option(\"delimiter\", \";\").option(\"header\", True).csv(path)\n",
    "df.show()"
   ]
  },
  {
   "cell_type": "code",
   "execution_count": null,
   "metadata": {},
   "outputs": [],
   "source": [
    "dataGroupBySubject = resultDF.groupBy('subject')\n",
    "dataGroupBySubject.show()"
   ]
  }
 ],
 "metadata": {
  "kernelspec": {
   "display_name": "Python 3",
   "language": "python",
   "name": "python3"
  },
  "language_info": {
   "codemirror_mode": {
    "name": "ipython",
    "version": 3
   },
   "file_extension": ".py",
   "mimetype": "text/x-python",
   "name": "python",
   "nbconvert_exporter": "python",
   "pygments_lexer": "ipython3",
   "version": "3.11.8"
  }
 },
 "nbformat": 4,
 "nbformat_minor": 2
}
